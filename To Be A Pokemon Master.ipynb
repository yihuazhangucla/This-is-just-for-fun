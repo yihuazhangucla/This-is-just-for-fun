{
 "cells": [
  {
   "cell_type": "code",
   "execution_count": 1,
   "metadata": {},
   "outputs": [
    {
     "name": "stdout",
     "output_type": "stream",
     "text": [
      "the trainer cannot participate pokemon league and have to do more efforts\n"
     ]
    }
   ],
   "source": [
    "x = \"the number of badges\"\n",
    "x = 6\n",
    "if x < 8:\n",
    "    print(\"the trainer cannot participate pokemon league and have to do more efforts\")\n",
    "else:\n",
    "    print(\"the trainer can participate pokemon league and good luck\")"
   ]
  },
  {
   "cell_type": "code",
   "execution_count": 3,
   "metadata": {},
   "outputs": [
    {
     "name": "stdout",
     "output_type": "stream",
     "text": [
      "the trainer can participate pokemon league and good luck\n"
     ]
    }
   ],
   "source": [
    "x = \"the number of badges\"\n",
    "x = 8\n",
    "if x < 8:\n",
    "    print(\"the trainer cannot participate pokemon league and have to do more efforts\")\n",
    "else:\n",
    "    print(\"the trainer can participate pokemon league and good luck\")"
   ]
  },
  {
   "cell_type": "markdown",
   "metadata": {},
   "source": [
    "Wish you all can be qualified and see you guys in Galar League!!!"
   ]
  }
 ],
 "metadata": {
  "kernelspec": {
   "display_name": "Python 3",
   "language": "python",
   "name": "python3"
  },
  "language_info": {
   "codemirror_mode": {
    "name": "ipython",
    "version": 3
   },
   "file_extension": ".py",
   "mimetype": "text/x-python",
   "name": "python",
   "nbconvert_exporter": "python",
   "pygments_lexer": "ipython3",
   "version": "3.6.8"
  }
 },
 "nbformat": 4,
 "nbformat_minor": 2
}
